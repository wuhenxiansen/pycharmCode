{
 "cells": [
  {
   "cell_type": "markdown",
   "metadata": {},
   "source": [
    "## CUR\n",
    "* No so good in small dataset"
   ]
  },
  {
   "cell_type": "code",
   "execution_count": 1,
   "metadata": {},
   "outputs": [],
   "source": [
    "import numpy as np"
   ]
  },
  {
   "cell_type": "code",
   "execution_count": 2,
   "metadata": {},
   "outputs": [],
   "source": [
    "A = np.linspace(0, 14, 15).reshape((3, -1))"
   ]
  },
  {
   "cell_type": "code",
   "execution_count": 3,
   "metadata": {},
   "outputs": [
    {
     "data": {
      "text/plain": [
       "array([[ 0.,  1.,  2.,  3.,  4.],\n",
       "       [ 5.,  6.,  7.,  8.,  9.],\n",
       "       [10., 11., 12., 13., 14.]])"
      ]
     },
     "execution_count": 3,
     "metadata": {},
     "output_type": "execute_result"
    }
   ],
   "source": [
    "A"
   ]
  },
  {
   "cell_type": "code",
   "execution_count": 16,
   "metadata": {},
   "outputs": [],
   "source": [
    "def CUR(A, n): \n",
    "    A_sq = A ** 2\n",
    "    sum_A_sq = np.sum(A_sq)\n",
    "    sum_A_sq_0 = np.sum(A_sq, axis=0)\n",
    "    sum_A_sq_1 = np.sum(A_sq, axis=1)\n",
    "    \n",
    "    P_x_c = sum_A_sq_0 / sum_A_sq\n",
    "    P_x_r = sum_A_sq_1 / sum_A_sq\n",
    "    \n",
    "    r, c = A.shape\n",
    "    \n",
    "    c_index = [np.random.choice(np.arange(0, c), p=P_x_c) for i in range(n)]\n",
    "    r_index = [np.random.choice(np.arange(0, r), p=P_x_r) for i in range(n)]\n",
    "#     print(c_index, r_index)\n",
    "    C = A[:, c_index]\n",
    "    R = A[r_index, :]\n",
    "    W = C[r_index]\n",
    "#     print(C, R, W)\n",
    "    \n",
    "    \n",
    "    def SVD(A, n):\n",
    "        M = np.dot(A, A.T)\n",
    "        eigval, eigvec = np.linalg.eig(M)\n",
    "        indexes = np.argsort(-eigval)[:n]\n",
    "        U = eigvec[:, indexes]\n",
    "        sigma_sq = eigval[indexes]\n",
    "        M = np.dot(A.T, A)\n",
    "        eigval, eigvec = np.linalg.eig(M)\n",
    "        indexes = np.argsort(-eigval)[:n]\n",
    "        V = eigvec[:, indexes]\n",
    "        sigma = sigma_sq # not diag and not sqrt\n",
    "        return U, sigma, V\n",
    "    \n",
    "    X, sigma, Y = SVD(W, n)\n",
    "    for i in range(len(sigma)):\n",
    "        if sigma[i] == 0:\n",
    "            continue\n",
    "        else:\n",
    "            sigma[i] = 1 / sigma[i]\n",
    "    sigma = np.diag(sigma)\n",
    "    U = np.dot(np.dot(Y, sigma), X.T)\n",
    "    return np.dot(np.dot(C, U), R)"
   ]
  },
  {
   "cell_type": "code",
   "execution_count": 19,
   "metadata": {},
   "outputs": [
    {
     "data": {
      "text/plain": [
       "array([[ 2.17773438,  1.48765662,  0.79757886,  0.10750111, -0.58257665],\n",
       "       [ 1.09375   ,  0.80413066,  0.51451132,  0.22489198, -0.06472735],\n",
       "       [ 0.08789062,  0.2065422 ,  0.32519378,  0.44384536,  0.56249694]])"
      ]
     },
     "execution_count": 19,
     "metadata": {},
     "output_type": "execute_result"
    }
   ],
   "source": [
    "CUR(A, 3)"
   ]
  }
 ],
 "metadata": {
  "kernelspec": {
   "display_name": "Python 3",
   "language": "python",
   "name": "python3"
  },
  "language_info": {
   "codemirror_mode": {
    "name": "ipython",
    "version": 3
   },
   "file_extension": ".py",
   "mimetype": "text/x-python",
   "name": "python",
   "nbconvert_exporter": "python",
   "pygments_lexer": "ipython3",
   "version": "3.6.6"
  }
 },
 "nbformat": 4,
 "nbformat_minor": 2
}
