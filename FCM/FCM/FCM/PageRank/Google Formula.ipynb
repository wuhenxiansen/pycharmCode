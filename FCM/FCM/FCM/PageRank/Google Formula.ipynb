{
 "cells": [
  {
   "cell_type": "markdown",
   "metadata": {},
   "source": [
    "## Google Formula\n",
    "* I just inplement the simple formula of PageRank. This kind of model cannot be used to Large Scale Data, unless you change the DataStructure"
   ]
  },
  {
   "cell_type": "code",
   "execution_count": 2,
   "metadata": {},
   "outputs": [],
   "source": [
    "import numpy as np\n",
    "import random"
   ]
  },
  {
   "cell_type": "code",
   "execution_count": 3,
   "metadata": {},
   "outputs": [],
   "source": [
    "def create_data(N, alpha=0.5): # random > alpha, then here is a edge.\n",
    "    G = np.zeros((N, N))\n",
    "    for i in range(N):\n",
    "        for j in range(N):\n",
    "            if i == j:\n",
    "                continue\n",
    "            if random.random() < alpha:\n",
    "                G[i][j] = 1\n",
    "    return G"
   ]
  },
  {
   "cell_type": "code",
   "execution_count": 4,
   "metadata": {},
   "outputs": [],
   "source": [
    "G = create_data(10)"
   ]
  },
  {
   "cell_type": "code",
   "execution_count": 5,
   "metadata": {},
   "outputs": [
    {
     "data": {
      "text/plain": [
       "array([[0., 1., 1., 0., 0., 1., 0., 1., 0., 1.],\n",
       "       [0., 0., 0., 1., 1., 0., 0., 0., 1., 0.],\n",
       "       [0., 1., 0., 1., 1., 1., 1., 1., 0., 0.],\n",
       "       [1., 0., 0., 0., 1., 1., 0., 0., 1., 0.],\n",
       "       [0., 0., 0., 0., 0., 0., 1., 1., 0., 0.],\n",
       "       [1., 1., 0., 0., 1., 0., 0., 1., 0., 0.],\n",
       "       [0., 1., 1., 0., 0., 0., 0., 0., 0., 1.],\n",
       "       [0., 1., 0., 1., 0., 1., 0., 0., 1., 1.],\n",
       "       [0., 0., 1., 0., 0., 1., 0., 0., 0., 0.],\n",
       "       [0., 1., 0., 1., 1., 0., 0., 0., 1., 0.]])"
      ]
     },
     "execution_count": 5,
     "metadata": {},
     "output_type": "execute_result"
    }
   ],
   "source": [
    "G"
   ]
  },
  {
   "cell_type": "code",
   "execution_count": 6,
   "metadata": {},
   "outputs": [],
   "source": [
    "def GtoM(G, N):\n",
    "    M = np.zeros((N, N))\n",
    "    for i in range(N):\n",
    "        D_i = sum(G[i])\n",
    "        if D_i == 0:\n",
    "            continue\n",
    "        for j in range(N):\n",
    "            M[j][i] = G[i][j] / D_i # watch out! M_j_i instead of M_i_j\n",
    "    return M"
   ]
  },
  {
   "cell_type": "code",
   "execution_count": 7,
   "metadata": {},
   "outputs": [],
   "source": [
    "M = GtoM(G, 10)"
   ]
  },
  {
   "cell_type": "code",
   "execution_count": 8,
   "metadata": {},
   "outputs": [
    {
     "data": {
      "text/plain": [
       "array([[0.        , 0.        , 0.        , 0.25      , 0.        ,\n",
       "        0.25      , 0.        , 0.        , 0.        , 0.        ],\n",
       "       [0.2       , 0.        , 0.16666667, 0.        , 0.        ,\n",
       "        0.25      , 0.33333333, 0.2       , 0.        , 0.25      ],\n",
       "       [0.2       , 0.        , 0.        , 0.        , 0.        ,\n",
       "        0.        , 0.33333333, 0.        , 0.5       , 0.        ],\n",
       "       [0.        , 0.33333333, 0.16666667, 0.        , 0.        ,\n",
       "        0.        , 0.        , 0.2       , 0.        , 0.25      ],\n",
       "       [0.        , 0.33333333, 0.16666667, 0.25      , 0.        ,\n",
       "        0.25      , 0.        , 0.        , 0.        , 0.25      ],\n",
       "       [0.2       , 0.        , 0.16666667, 0.25      , 0.        ,\n",
       "        0.        , 0.        , 0.2       , 0.5       , 0.        ],\n",
       "       [0.        , 0.        , 0.16666667, 0.        , 0.5       ,\n",
       "        0.        , 0.        , 0.        , 0.        , 0.        ],\n",
       "       [0.2       , 0.        , 0.16666667, 0.        , 0.5       ,\n",
       "        0.25      , 0.        , 0.        , 0.        , 0.        ],\n",
       "       [0.        , 0.33333333, 0.        , 0.25      , 0.        ,\n",
       "        0.        , 0.        , 0.2       , 0.        , 0.25      ],\n",
       "       [0.2       , 0.        , 0.        , 0.        , 0.        ,\n",
       "        0.        , 0.33333333, 0.2       , 0.        , 0.        ]])"
      ]
     },
     "execution_count": 8,
     "metadata": {},
     "output_type": "execute_result"
    }
   ],
   "source": [
    "M"
   ]
  },
  {
   "cell_type": "code",
   "execution_count": 9,
   "metadata": {},
   "outputs": [],
   "source": [
    "def PageRank(M, N, T=300, eps=1e-6, beta=0.8):\n",
    "    R = np.ones(N) / N\n",
    "    teleport = np.ones(N) / N\n",
    "    for time in range(T):\n",
    "        R_new = beta * np.dot(M, R) + (1-beta)*teleport\n",
    "        if np.linalg.norm(R_new - R) < eps:\n",
    "            break\n",
    "        R = R_new.copy()\n",
    "    return R_new"
   ]
  },
  {
   "cell_type": "code",
   "execution_count": 10,
   "metadata": {},
   "outputs": [
    {
     "data": {
      "text/plain": [
       "array([0.06423149, 0.1221873 , 0.09415584, 0.09800476, 0.12353606,\n",
       "       0.12315282, 0.08196852, 0.11687612, 0.10505158, 0.07083551])"
      ]
     },
     "execution_count": 10,
     "metadata": {},
     "output_type": "execute_result"
    }
   ],
   "source": [
    "values = PageRank(M, 10, T=2000)\n",
    "values"
   ]
  },
  {
   "cell_type": "code",
   "execution_count": 11,
   "metadata": {},
   "outputs": [
    {
     "data": {
      "text/plain": [
       "1.0"
      ]
     },
     "execution_count": 11,
     "metadata": {},
     "output_type": "execute_result"
    }
   ],
   "source": [
    "sum(values)"
   ]
  }
 ],
 "metadata": {
  "kernelspec": {
   "display_name": "Python 3",
   "language": "python",
   "name": "python3"
  },
  "language_info": {
   "codemirror_mode": {
    "name": "ipython",
    "version": 3
   },
   "file_extension": ".py",
   "mimetype": "text/x-python",
   "name": "python",
   "nbconvert_exporter": "python",
   "pygments_lexer": "ipython3",
   "version": "3.6.6"
  }
 },
 "nbformat": 4,
 "nbformat_minor": 2
}
