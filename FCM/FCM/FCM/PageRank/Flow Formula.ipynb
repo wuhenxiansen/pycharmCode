{
 "cells": [
  {
   "cell_type": "markdown",
   "metadata": {},
   "source": [
    "## Flow Formula\n",
    "* I just inplement the simple formula of PageRank. This kind of model cannot be used to Large Scale Data, unless you change the DataStructure"
   ]
  },
  {
   "cell_type": "code",
   "execution_count": 2,
   "metadata": {},
   "outputs": [],
   "source": [
    "import numpy as np\n",
    "import random"
   ]
  },
  {
   "cell_type": "code",
   "execution_count": 23,
   "metadata": {},
   "outputs": [],
   "source": [
    "def create_data(N, alpha=0.5): # random > alpha, then here is a edge.\n",
    "    G = np.zeros((N, N))\n",
    "    for i in range(N):\n",
    "        for j in range(N):\n",
    "            if i == j:\n",
    "                continue\n",
    "            if random.random() < alpha:\n",
    "                G[i][j] = 1\n",
    "    return G"
   ]
  },
  {
   "cell_type": "code",
   "execution_count": 24,
   "metadata": {},
   "outputs": [],
   "source": [
    "G = create_data(10)"
   ]
  },
  {
   "cell_type": "code",
   "execution_count": 25,
   "metadata": {},
   "outputs": [
    {
     "data": {
      "text/plain": [
       "array([[0., 1., 1., 0., 0., 0., 1., 1., 1., 1.],\n",
       "       [1., 0., 0., 0., 1., 0., 1., 0., 1., 0.],\n",
       "       [0., 1., 0., 1., 0., 1., 1., 1., 1., 0.],\n",
       "       [1., 0., 1., 0., 1., 0., 0., 1., 0., 1.],\n",
       "       [0., 1., 1., 1., 0., 1., 1., 0., 1., 1.],\n",
       "       [1., 1., 1., 1., 0., 0., 1., 1., 1., 0.],\n",
       "       [0., 0., 0., 0., 1., 0., 0., 1., 0., 1.],\n",
       "       [0., 1., 0., 1., 0., 1., 0., 0., 1., 0.],\n",
       "       [1., 0., 0., 0., 0., 1., 0., 1., 0., 0.],\n",
       "       [0., 0., 1., 1., 1., 0., 1., 0., 1., 0.]])"
      ]
     },
     "execution_count": 25,
     "metadata": {},
     "output_type": "execute_result"
    }
   ],
   "source": [
    "G"
   ]
  },
  {
   "cell_type": "code",
   "execution_count": 26,
   "metadata": {},
   "outputs": [],
   "source": [
    "def GtoM(G, N):\n",
    "    M = np.zeros((N, N))\n",
    "    for i in range(N):\n",
    "        D_i = sum(G[i])\n",
    "        if D_i == 0:\n",
    "            continue\n",
    "        for j in range(N):\n",
    "            M[j][i] = G[i][j] / D_i # watch out! M_j_i instead of M_i_j\n",
    "    return M"
   ]
  },
  {
   "cell_type": "code",
   "execution_count": 27,
   "metadata": {},
   "outputs": [],
   "source": [
    "M = GtoM(G, 10)"
   ]
  },
  {
   "cell_type": "code",
   "execution_count": 28,
   "metadata": {},
   "outputs": [
    {
     "data": {
      "text/plain": [
       "array([[0.        , 0.25      , 0.        , 0.2       , 0.        ,\n",
       "        0.14285714, 0.        , 0.        , 0.33333333, 0.        ],\n",
       "       [0.16666667, 0.        , 0.16666667, 0.        , 0.14285714,\n",
       "        0.14285714, 0.        , 0.25      , 0.        , 0.        ],\n",
       "       [0.16666667, 0.        , 0.        , 0.2       , 0.14285714,\n",
       "        0.14285714, 0.        , 0.        , 0.        , 0.2       ],\n",
       "       [0.        , 0.        , 0.16666667, 0.        , 0.14285714,\n",
       "        0.14285714, 0.        , 0.25      , 0.        , 0.2       ],\n",
       "       [0.        , 0.25      , 0.        , 0.2       , 0.        ,\n",
       "        0.        , 0.33333333, 0.        , 0.        , 0.2       ],\n",
       "       [0.        , 0.        , 0.16666667, 0.        , 0.14285714,\n",
       "        0.        , 0.        , 0.25      , 0.33333333, 0.        ],\n",
       "       [0.16666667, 0.25      , 0.16666667, 0.        , 0.14285714,\n",
       "        0.14285714, 0.        , 0.        , 0.        , 0.2       ],\n",
       "       [0.16666667, 0.        , 0.16666667, 0.2       , 0.        ,\n",
       "        0.14285714, 0.33333333, 0.        , 0.33333333, 0.        ],\n",
       "       [0.16666667, 0.25      , 0.16666667, 0.        , 0.14285714,\n",
       "        0.14285714, 0.        , 0.25      , 0.        , 0.2       ],\n",
       "       [0.16666667, 0.        , 0.        , 0.2       , 0.14285714,\n",
       "        0.        , 0.33333333, 0.        , 0.        , 0.        ]])"
      ]
     },
     "execution_count": 28,
     "metadata": {},
     "output_type": "execute_result"
    }
   ],
   "source": [
    "M"
   ]
  },
  {
   "cell_type": "code",
   "execution_count": 29,
   "metadata": {},
   "outputs": [],
   "source": [
    "def PageRank(M, N, T=300, eps=1e-6):\n",
    "    R = np.ones(N) / N\n",
    "    for time in range(T):\n",
    "        R_new = np.dot(M, R)\n",
    "        if np.linalg.norm(R_new - R) < eps:\n",
    "            break\n",
    "        R = R_new.copy()\n",
    "    return R_new"
   ]
  },
  {
   "cell_type": "code",
   "execution_count": 35,
   "metadata": {},
   "outputs": [
    {
     "data": {
      "text/plain": [
       "array([0.09972576, 0.09193927, 0.07843151, 0.09125886, 0.08925602,\n",
       "       0.10407245, 0.09623654, 0.13851257, 0.13086464, 0.07970237])"
      ]
     },
     "execution_count": 35,
     "metadata": {},
     "output_type": "execute_result"
    }
   ],
   "source": [
    "values = PageRank(M, 10, T=2000)\n",
    "values"
   ]
  },
  {
   "cell_type": "code",
   "execution_count": 34,
   "metadata": {},
   "outputs": [
    {
     "data": {
      "text/plain": [
       "0.9999999999999996"
      ]
     },
     "execution_count": 34,
     "metadata": {},
     "output_type": "execute_result"
    }
   ],
   "source": [
    "sum(values)"
   ]
  },
  {
   "cell_type": "code",
   "execution_count": 36,
   "metadata": {},
   "outputs": [],
   "source": [
    "def PageRank_(M, N, T=300, eps=1e-6, beta=0.8):\n",
    "    R = np.ones(N) / N\n",
    "    teleport = np.ones(N) / N\n",
    "    for time in range(T):\n",
    "        R_new = beta * np.dot(M, R) + (1-beta)*teleport\n",
    "        if np.linalg.norm(R_new - R) < eps:\n",
    "            break\n",
    "        R = R_new.copy()\n",
    "    return R_new"
   ]
  },
  {
   "cell_type": "code",
   "execution_count": 37,
   "metadata": {},
   "outputs": [
    {
     "data": {
      "text/plain": [
       "array([0.09815807, 0.09250429, 0.08376235, 0.09300133, 0.09324628,\n",
       "       0.10108776, 0.09855127, 0.13019363, 0.12458992, 0.0849051 ])"
      ]
     },
     "execution_count": 37,
     "metadata": {},
     "output_type": "execute_result"
    }
   ],
   "source": [
    "values = PageRank_(M, 10, T=2000)\n",
    "values"
   ]
  },
  {
   "cell_type": "code",
   "execution_count": null,
   "metadata": {},
   "outputs": [],
   "source": []
  }
 ],
 "metadata": {
  "kernelspec": {
   "display_name": "Python 3",
   "language": "python",
   "name": "python3"
  },
  "language_info": {
   "codemirror_mode": {
    "name": "ipython",
    "version": 3
   },
   "file_extension": ".py",
   "mimetype": "text/x-python",
   "name": "python",
   "nbconvert_exporter": "python",
   "pygments_lexer": "ipython3",
   "version": "3.6.6"
  }
 },
 "nbformat": 4,
 "nbformat_minor": 2
}
