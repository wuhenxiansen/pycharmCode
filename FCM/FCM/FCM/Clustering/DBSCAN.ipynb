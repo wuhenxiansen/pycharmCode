{
 "cells": [
  {
   "cell_type": "code",
   "execution_count": 1,
   "metadata": {},
   "outputs": [],
   "source": [
    "from sklearn import datasets\n",
    "import numpy as np \n",
    "import matplotlib.pyplot as plt\n",
    "\n",
    "iris = datasets.load_iris()"
   ]
  },
  {
   "cell_type": "code",
   "execution_count": 2,
   "metadata": {},
   "outputs": [
    {
     "data": {
      "text/plain": [
       "((150, 4), (150,))"
      ]
     },
     "execution_count": 2,
     "metadata": {},
     "output_type": "execute_result"
    }
   ],
   "source": [
    "%matplotlib inline\n",
    "iris.data.shape, iris.target.shape"
   ]
  },
  {
   "cell_type": "code",
   "execution_count": 18,
   "metadata": {},
   "outputs": [],
   "source": [
    "def DBSCAN(X, epsilon=0.6, MinPts=8):\n",
    "#     def preproduce(X):\n",
    "#         return (X - np.min(X, axis=0))/ (np.max(X, axis=0)- np.min(X, axis=0))\n",
    "#     X = preproduce(X)\n",
    "    Nx = [0 for i in range(len(X))] \n",
    "    core_points = []\n",
    "    for i, xi in enumerate(X):\n",
    "        temp = np.array([np.linalg.norm(xi - cj) if i != j else np.inf for j, cj in enumerate(X)])\n",
    "        Nx[i] =  set(np.where(temp < epsilon)[0])\n",
    "        if len(Nx) >= MinPts:\n",
    "            core_points.append(i)\n",
    "    k = 0\n",
    "    not_visited = set([i for i in range(len(X))])\n",
    "    \n",
    "    Ck = [0 for i in range(len(X))] \n",
    "    if len(core_points) == 0:\n",
    "        print(\"Not core_points\")\n",
    "    while len(core_points) > 0:\n",
    "        not_visited_temp = not_visited\n",
    "        \n",
    "        o = core_points[np.random.randint(0, len(core_points))]\n",
    "        Queue = [o]\n",
    "        not_visited = not_visited - set(Queue)\n",
    "        \n",
    "        while len(Queue) > 0:\n",
    "            q = Queue[0]\n",
    "            Queue = Queue[1:]\n",
    "            \n",
    "            if len(Nx[q]) >= MinPts:\n",
    "                delta = Nx[q] & not_visited\n",
    "                Queue = Queue + list(delta)\n",
    "                not_visited = not_visited - delta\n",
    "        Ck[k] = not_visited_temp - not_visited\n",
    "        core_points = list(set(core_points) - Ck[k])\n",
    "        k += 1\n",
    "    Ans = np.zeros(len(X))\n",
    "    for k_i in range(k):\n",
    "        Ans[list(Ck[k_i])] = k_i\n",
    "    return Ans"
   ]
  },
  {
   "cell_type": "code",
   "execution_count": 19,
   "metadata": {},
   "outputs": [],
   "source": [
    "test_y = DBSCAN(iris.data,)"
   ]
  },
  {
   "cell_type": "code",
   "execution_count": 20,
   "metadata": {},
   "outputs": [
    {
     "data": {
      "text/plain": [
       "<matplotlib.collections.PathCollection at 0x1c21d1f6e10>"
      ]
     },
     "execution_count": 20,
     "metadata": {},
     "output_type": "execute_result"
    },
    {
     "data": {
      "image/png": "[encoded data removed]",
      "text/plain": [
       "<Figure size 432x288 with 1 Axes>"
      ]
     },
     "metadata": {
      "needs_background": "light"
     },
     "output_type": "display_data"
    }
   ],
   "source": [
    "from sklearn.decomposition import PCA\n",
    "\n",
    "X_reduced = PCA(n_components=2).fit_transform(iris.data)\n",
    "plt.scatter(X_reduced[:, 0], X_reduced[:, 1], c=test_y, cmap=plt.cm.Set1)"
   ]
  },
  {
   "cell_type": "code",
   "execution_count": 21,
   "metadata": {},
   "outputs": [],
   "source": [
    "def evaluate(y, t):\n",
    "    a, b, c, d = [0 for i in range(4)]\n",
    "    for i in range(len(y)):\n",
    "        for j in range(i+1, len(y)):\n",
    "            if y[i] == y[j] and t[i] == t[j]:\n",
    "                a += 1\n",
    "            elif y[i] == y[j] and t[i] != t[j]:\n",
    "                b += 1\n",
    "            elif y[i] != y[j] and t[i] == t[j]:\n",
    "                c += 1\n",
    "            elif y[i] != y[j] and t[i] != t[j]:\n",
    "                d += 1\n",
    "    return a, b, c, d\n",
    "\n",
    "def external_index(a, b, c, d, m):\n",
    "    JC = a / (a + b + c)\n",
    "    FMI = np.sqrt(a**2 / ((a + b) * (a + c)))\n",
    "    RI = 2 * ( a + d ) / ( m * (m + 1) )\n",
    "    return JC, FMI, RI\n",
    "\n",
    "def evaluate_it(y, t):\n",
    "    a, b, c, d = evaluate(y, t)\n",
    "    return external_index(a, b, c, d, len(y))"
   ]
  },
  {
   "cell_type": "code",
   "execution_count": 22,
   "metadata": {},
   "outputs": [
    {
     "data": {
      "text/plain": [
       "(0.5478865703584804, 0.716364224913396, 0.7629139072847683)"
      ]
     },
     "execution_count": 22,
     "metadata": {},
     "output_type": "execute_result"
    }
   ],
   "source": [
    "evaluate_it(iris.target, test_y)"
   ]
  }
 ],
 "metadata": {
  "kernelspec": {
   "display_name": "Python 3",
   "language": "python",
   "name": "python3"
  },
  "language_info": {
   "codemirror_mode": {
    "name": "ipython",
    "version": 3
   },
   "file_extension": ".py",
   "mimetype": "text/x-python",
   "name": "python",
   "nbconvert_exporter": "python",
   "pygments_lexer": "ipython3",
   "version": "3.6.6"
  }
 },
 "nbformat": 4,
 "nbformat_minor": 2
}
