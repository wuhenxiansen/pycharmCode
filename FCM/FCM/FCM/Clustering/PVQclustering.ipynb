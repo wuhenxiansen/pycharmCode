{
 "cells": [
  {
   "cell_type": "code",
   "execution_count": 1,
   "metadata": {},
   "outputs": [],
   "source": [
    "from sklearn import datasets\n",
    "\n",
    "iris = datasets.load_iris()"
   ]
  },
  {
   "cell_type": "code",
   "execution_count": 2,
   "metadata": {},
   "outputs": [
    {
     "data": {
      "text/plain": [
       "((150, 4), (150,))"
      ]
     },
     "execution_count": 2,
     "metadata": {},
     "output_type": "execute_result"
    }
   ],
   "source": [
    "%matplotlib inline\n",
    "iris.data.shape, iris.target.shape"
   ]
  },
  {
   "cell_type": "code",
   "execution_count": 3,
   "metadata": {},
   "outputs": [],
   "source": [
    "import numpy as np\n",
    "\n",
    "def random_split(X, y, train_rate=0.3):\n",
    "    y_ = np.array(list(zip(y, range(len(y)))))\n",
    "    np.random.shuffle(y_)\n",
    "    \n",
    "    train_n = int(len(y) * train_rate)\n",
    "    \n",
    "    y_train = y_[:train_n]\n",
    "    y_test = y_[train_n:]\n",
    "    \n",
    "    index_train = y_train[:, 1]\n",
    "    index_test = y_test[:, 1]\n",
    "    \n",
    "    return X[index_train], y_train[:, 0], X[index_test], y_test[:, 0]\n"
   ]
  },
  {
   "cell_type": "code",
   "execution_count": 4,
   "metadata": {},
   "outputs": [
    {
     "name": "stdout",
     "output_type": "stream",
     "text": [
      "(45, 4)\n",
      "(45,)\n",
      "(105, 4)\n",
      "(105,)\n"
     ]
    }
   ],
   "source": [
    "for a in random_split(iris.data, iris.target):\n",
    "    print(a.shape)\n",
    "    "
   ]
  },
  {
   "cell_type": "code",
   "execution_count": 5,
   "metadata": {},
   "outputs": [],
   "source": [
    "def LVQ(X, y, k, MAX_TIME=100, ita=0.2):\n",
    "    init_index = np.random.choice(len(y), k)\n",
    "    px = X[init_index]\n",
    "    py = y[init_index]\n",
    "    for _ in range(MAX_TIME):\n",
    "        j = np.random.choice(len(y), 1)\n",
    "        xj, yj = X[j], y[j]\n",
    "        i = np.argmin([np.linalg.norm(xj - pi) for pi in px])\n",
    "        pyi = py[i]\n",
    "        \n",
    "        if pyi == yj:\n",
    "            px[i] = px[i] + ita * (xj - px[i])\n",
    "        else:\n",
    "            px[i] = px[i] - ita * (xj - px[i])\n",
    "    \n",
    "    return px\n",
    "\n",
    "def PVQ_clustering(X, px):\n",
    "    return np.array(list(map(lambda x: np.argmin([np.linalg.norm(x - pi) for pi in px]), X)))"
   ]
  },
  {
   "cell_type": "code",
   "execution_count": 6,
   "metadata": {},
   "outputs": [],
   "source": [
    "train_x, train_y, test_x, test_y = random_split(iris.data, iris.target)\n",
    "px = LVQ(train_x, train_y, 3)\n",
    "y = PVQ_clustering(test_x, px)"
   ]
  },
  {
   "cell_type": "code",
   "execution_count": 7,
   "metadata": {},
   "outputs": [
    {
     "data": {
      "text/plain": [
       "(array([[ 5.84681367e+00,  3.12509028e+00,  2.19078451e+00,\n",
       "         -5.19986331e-04],\n",
       "        [ 5.76004905e+00,  2.74419786e+00,  3.85617830e+00,\n",
       "          1.16388344e+00],\n",
       "        [ 5.00088248e+00,  3.36011383e+00,  1.41751863e+00,\n",
       "          2.55039694e-01]]),\n",
       " array([1, 1, 1, 1, 2, 2, 1, 1, 2, 2, 1, 1, 1, 1, 1, 1, 1, 2, 1, 1, 2, 1,\n",
       "        1, 1, 1, 1, 1, 1, 2, 2, 1, 2, 1, 1, 1, 1, 1, 2, 1, 1, 1, 2, 1, 2,\n",
       "        2, 2, 1, 2, 2, 1, 2, 1, 1, 1, 1, 1, 2, 1, 1, 2, 1, 1, 1, 2, 1, 1,\n",
       "        1, 1, 1, 1, 1, 1, 1, 2, 1, 1, 1, 1, 1, 2, 1, 2, 1, 2, 2, 2, 1, 1,\n",
       "        2, 2, 2, 2, 2, 1, 1, 1, 2, 1, 1, 1, 2, 2, 1, 2, 1], dtype=int64))"
      ]
     },
     "execution_count": 7,
     "metadata": {},
     "output_type": "execute_result"
    }
   ],
   "source": [
    "px, y"
   ]
  },
  {
   "cell_type": "code",
   "execution_count": 8,
   "metadata": {},
   "outputs": [
    {
     "data": {
      "text/plain": [
       "<matplotlib.collections.PathCollection at 0x1b3f64b4c88>"
      ]
     },
     "execution_count": 8,
     "metadata": {},
     "output_type": "execute_result"
    },
    {
     "data": {
      "image/png": "[encoded data removed]",
      "text/plain": [
       "<Figure size 432x288 with 1 Axes>"
      ]
     },
     "metadata": {
      "needs_background": "light"
     },
     "output_type": "display_data"
    }
   ],
   "source": [
    "import matplotlib.pyplot as plt\n",
    "from sklearn.decomposition import PCA\n",
    "\n",
    "X_reduced = PCA(n_components=2).fit_transform(test_x)\n",
    "plt.scatter(X_reduced[:, 0], X_reduced[:, 1], c=y, cmap=plt.cm.Set1)"
   ]
  },
  {
   "cell_type": "code",
   "execution_count": 9,
   "metadata": {},
   "outputs": [
    {
     "data": {
      "text/plain": [
       "<matplotlib.collections.PathCollection at 0x1b3f651f9b0>"
      ]
     },
     "execution_count": 9,
     "metadata": {},
     "output_type": "execute_result"
    },
    {
     "data": {
      "image/png": "[encoded data removed]",
      "text/plain": [
       "<Figure size 432x288 with 1 Axes>"
      ]
     },
     "metadata": {
      "needs_background": "light"
     },
     "output_type": "display_data"
    }
   ],
   "source": [
    "plt.scatter(X_reduced[:, 0], X_reduced[:, 1], c=test_y, cmap=plt.cm.Set1)"
   ]
  },
  {
   "cell_type": "code",
   "execution_count": 10,
   "metadata": {},
   "outputs": [],
   "source": [
    "def evaluate(y, t):\n",
    "    a, b, c, d = [0 for i in range(4)]\n",
    "    for i in range(len(y)):\n",
    "        for j in range(i+1, len(y)):\n",
    "            if y[i] == y[j] and t[i] == t[j]:\n",
    "                a += 1\n",
    "            elif y[i] == y[j] and t[i] != t[j]:\n",
    "                b += 1\n",
    "            elif y[i] != y[j] and t[i] == t[j]:\n",
    "                c += 1\n",
    "            elif y[i] != y[j] and t[i] != t[j]:\n",
    "                d += 1\n",
    "    return a, b, c, d\n",
    "\n",
    "def external_index(a, b, c, d, m):\n",
    "    JC = a / (a + b + c)\n",
    "    FMI = np.sqrt(a**2 / ((a + b) * (a + c)))\n",
    "    RI = 2 * ( a + d ) / ( m * (m + 1) )\n",
    "    return JC, FMI, RI\n",
    "\n",
    "def evaluate_it(y, t):\n",
    "    a, b, c, d = evaluate(y, t)\n",
    "    return external_index(a, b, c, d, len(y))"
   ]
  },
  {
   "cell_type": "code",
   "execution_count": 13,
   "metadata": {},
   "outputs": [
    {
     "data": {
      "text/plain": [
       "(0.5933554817275748, 0.7702957105732673, 0.7611859838274933)"
      ]
     },
     "execution_count": 13,
     "metadata": {},
     "output_type": "execute_result"
    }
   ],
   "source": [
    "evaluate_it(test_y, y)"
   ]
  }
 ],
 "metadata": {
  "kernelspec": {
   "display_name": "Python 3",
   "language": "python",
   "name": "python3"
  },
  "language_info": {
   "codemirror_mode": {
    "name": "ipython",
    "version": 3
   },
   "file_extension": ".py",
   "mimetype": "text/x-python",
   "name": "python",
   "nbconvert_exporter": "python",
   "pygments_lexer": "ipython3",
   "version": "3.6.6"
  }
 },
 "nbformat": 4,
 "nbformat_minor": 2
}
