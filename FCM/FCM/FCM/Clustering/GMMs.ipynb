{
 "cells": [
  {
   "cell_type": "code",
   "execution_count": 1,
   "metadata": {},
   "outputs": [],
   "source": [
    "from sklearn import datasets\n",
    "import numpy as np \n",
    "import matplotlib.pyplot as plt\n",
    "\n",
    "iris = datasets.load_iris()"
   ]
  },
  {
   "cell_type": "code",
   "execution_count": 2,
   "metadata": {},
   "outputs": [
    {
     "data": {
      "text/plain": [
       "((150, 4), (150,))"
      ]
     },
     "execution_count": 2,
     "metadata": {},
     "output_type": "execute_result"
    }
   ],
   "source": [
    "%matplotlib inline\n",
    "iris.data.shape, iris.target.shape"
   ]
  },
  {
   "cell_type": "code",
   "execution_count": 3,
   "metadata": {},
   "outputs": [],
   "source": [
    "from scipy import stats\n",
    "\n",
    "\n",
    "def GMMs(X, k=3, steps=10):\n",
    "    \n",
    "    def p(x, mu, sigma):\n",
    "        n = len(x)\n",
    "        div = (2 * np.pi) ** (n / 2) * (abs(np.linalg.det(sigma)) ** 0.5)\n",
    "        expOn = -0.5 * ( np.dot( (x - mu).T,  np.dot(np.linalg.inv(sigma), (x - mu)) ) )      \n",
    "        return np.exp(expOn) / div\n",
    "        \n",
    "    def init(X):\n",
    "        _, n = X.shape\n",
    "        return np.random.rand(k, n), 2 * np.random.rand(k, n, n) + 1, np.random.rand(k)\n",
    "    \n",
    "    # k个Gausssian distribution\n",
    "    mus, sigmas, alphas = init(X)\n",
    "    # EM algorithm\n",
    "    # E-step\n",
    "    mat = np.zeros((len(X), k))\n",
    "    for times in range(steps):\n",
    "        for j, x in enumerate(X):\n",
    "            temp, tempP = 0, 0\n",
    "            for i in range(k):\n",
    "                tempP = p(x, mus[i], sigmas[i])\n",
    "                temp += tempP\n",
    "                mat[j][i] = alphas[i] * tempP\n",
    "            mat[j] /= temp\n",
    "        \n",
    "        for i in range(k):\n",
    "            # updata mus\n",
    "            mus[i] = np.dot(mat[:, i].T, X) / sum(mat[:, i])\n",
    "            \n",
    "            # update sigmas\n",
    "            temp = np.zeros(sigmas[0].shape)\n",
    "            for j in range(len(X)):\n",
    "                data = (X[j] - mus[i]).reshape(4, 1)\n",
    "                temp += mat[j][i] * np.dot(data, data.T)\n",
    "            temp /= sum(mat[:, i])\n",
    "            sigmas[i] = temp\n",
    "            alphas[i] = sum(mat[:, i]) / len(X)\n",
    "    # clustering\n",
    "    Ans = np.zeros(len(X))\n",
    "    for j, x in enumerate(X):\n",
    "        temp, tempP = 0, 0\n",
    "        for i in range(k):\n",
    "            tempP = p(x, mus[i], sigmas[i])\n",
    "            temp += tempP\n",
    "            mat[j][i] = alphas[i] * tempP\n",
    "        mat[j] /= temp\n",
    "        Ans[j] = np.argmax(mat[j])\n",
    "    return Ans"
   ]
  },
  {
   "cell_type": "code",
   "execution_count": 11,
   "metadata": {},
   "outputs": [
    {
     "data": {
      "text/plain": [
       "array([2., 2., 2., 2., 2., 2., 2., 2., 2., 2., 2., 2., 2., 2., 2., 2., 2.,\n",
       "       2., 2., 2., 2., 2., 2., 2., 2., 2., 2., 2., 2., 2., 2., 2., 2., 2.,\n",
       "       2., 2., 2., 2., 2., 2., 2., 2., 2., 2., 2., 2., 2., 2., 2., 2., 1.,\n",
       "       1., 1., 1., 1., 1., 1., 1., 1., 1., 1., 1., 1., 1., 1., 1., 1., 1.,\n",
       "       0., 1., 0., 1., 0., 1., 1., 1., 1., 0., 1., 1., 1., 1., 1., 0., 1.,\n",
       "       1., 1., 1., 1., 1., 1., 1., 1., 1., 1., 1., 1., 1., 1., 1., 0., 0.,\n",
       "       0., 0., 0., 0., 0., 0., 0., 0., 0., 0., 0., 0., 0., 0., 0., 0., 0.,\n",
       "       0., 0., 0., 0., 0., 0., 0., 0., 0., 0., 0., 0., 0., 0., 0., 0., 0.,\n",
       "       0., 0., 0., 0., 0., 0., 0., 0., 0., 0., 0., 0., 0., 0.])"
      ]
     },
     "execution_count": 11,
     "metadata": {},
     "output_type": "execute_result"
    }
   ],
   "source": [
    "test_y = GMMs(iris.data, steps=20)\n",
    "test_y"
   ]
  },
  {
   "cell_type": "code",
   "execution_count": 12,
   "metadata": {},
   "outputs": [
    {
     "data": {
      "text/plain": [
       "<matplotlib.collections.PathCollection at 0x15944818978>"
      ]
     },
     "execution_count": 12,
     "metadata": {},
     "output_type": "execute_result"
    },
    {
     "data": {
      "image/png": "[encoded data removed]",
      "text/plain": [
       "<Figure size 432x288 with 1 Axes>"
      ]
     },
     "metadata": {
      "needs_background": "light"
     },
     "output_type": "display_data"
    }
   ],
   "source": [
    "from sklearn.decomposition import PCA\n",
    "\n",
    "X_reduced = PCA(n_components=2).fit_transform(iris.data)\n",
    "plt.scatter(X_reduced[:, 0], X_reduced[:, 1], c=test_y, cmap=plt.cm.Set1)"
   ]
  },
  {
   "cell_type": "code",
   "execution_count": 15,
   "metadata": {},
   "outputs": [],
   "source": [
    "def evaluate(y, t):\n",
    "    a, b, c, d = [0 for i in range(4)]\n",
    "    for i in range(len(y)):\n",
    "        for j in range(i+1, len(y)):\n",
    "            if y[i] == y[j] and t[i] == t[j]:\n",
    "                a += 1\n",
    "            elif y[i] == y[j] and t[i] != t[j]:\n",
    "                b += 1\n",
    "            elif y[i] != y[j] and t[i] == t[j]:\n",
    "                c += 1\n",
    "            elif y[i] != y[j] and t[i] != t[j]:\n",
    "                d += 1\n",
    "    return a, b, c, d\n",
    "\n",
    "def external_index(a, b, c, d, m):\n",
    "    JC = a / (a + b + c)\n",
    "    FMI = np.sqrt(a**2 / ((a + b) * (a + c)))\n",
    "    RI = 2 * ( a + d ) / ( m * (m + 1) )\n",
    "    return JC, FMI, RI\n",
    "\n",
    "def evaluate_it(y, t):\n",
    "    a, b, c, d = evaluate(y, t)\n",
    "    return external_index(a, b, c, d, len(y))"
   ]
  },
  {
   "cell_type": "code",
   "execution_count": 16,
   "metadata": {
    "scrolled": true
   },
   "outputs": [
    {
     "data": {
      "text/plain": [
       "(0.8789808917197452, 0.9355985958131776, 0.9448123620309051)"
      ]
     },
     "execution_count": 16,
     "metadata": {},
     "output_type": "execute_result"
    }
   ],
   "source": [
    "evaluate_it(iris.target, test_y)"
   ]
  }
 ],
 "metadata": {
  "kernelspec": {
   "display_name": "Python 3",
   "language": "python",
   "name": "python3"
  },
  "language_info": {
   "codemirror_mode": {
    "name": "ipython",
    "version": 3
   },
   "file_extension": ".py",
   "mimetype": "text/x-python",
   "name": "python",
   "nbconvert_exporter": "python",
   "pygments_lexer": "ipython3",
   "version": "3.6.6"
  }
 },
 "nbformat": 4,
 "nbformat_minor": 2
}
